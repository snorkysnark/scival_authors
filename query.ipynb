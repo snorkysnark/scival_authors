{
 "cells": [
  {
   "cell_type": "code",
   "execution_count": 1,
   "id": "338f0d85-78f2-4ff7-9a79-d73d48350dec",
   "metadata": {},
   "outputs": [],
   "source": [
    "import polars\n",
    "from xlsxwriter import Workbook"
   ]
  },
  {
   "cell_type": "code",
   "execution_count": 2,
   "id": "c9db5bbf-e15d-4c23-851b-2cb166e58fe6",
   "metadata": {},
   "outputs": [
    {
     "data": {
      "text/html": [
       "<div><style>\n",
       ".dataframe > thead > tr,\n",
       ".dataframe > tbody > tr {\n",
       "  text-align: right;\n",
       "  white-space: pre-wrap;\n",
       "}\n",
       "</style>\n",
       "<small>shape: (13_459, 3)</small><table border=\"1\" class=\"dataframe\"><thead><tr><th>publication_id</th><th>doi</th><th>rank_sum</th></tr><tr><td>i64</td><td>str</td><td>i64</td></tr></thead><tbody><tr><td>62</td><td>&quot;10.1016/j.jii.2020.100125&quot;</td><td>0</td></tr><tr><td>70</td><td>&quot;10.1056/NEJMra1906193&quot;</td><td>0</td></tr><tr><td>85</td><td>&quot;10.1109/TCSI.2020.3036847&quot;</td><td>0</td></tr><tr><td>138</td><td>&quot;10.1111/nph.18016&quot;</td><td>0</td></tr><tr><td>152</td><td>&quot;10.1016/j.anr.2019.11.002&quot;</td><td>0</td></tr><tr><td>&hellip;</td><td>&hellip;</td><td>&hellip;</td></tr><tr><td>543</td><td>&quot;10.1038/s41591-021-01498-0&quot;</td><td>249998</td></tr><tr><td>2926</td><td>&quot;10.1093/database/baz085&quot;</td><td>249998</td></tr><tr><td>50</td><td>&quot;10.1016/S0140-6736(22)01438-6&quot;</td><td>249999</td></tr><tr><td>10</td><td>&quot;10.1038/s41586-020-1969-6&quot;</td><td>250000</td></tr><tr><td>2037</td><td>&quot;10.1001/jamacardio.2018.4729&quot;</td><td>250000</td></tr></tbody></table></div>"
      ],
      "text/plain": [
       "shape: (13_459, 3)\n",
       "┌────────────────┬───────────────────────────────┬──────────┐\n",
       "│ publication_id ┆ doi                           ┆ rank_sum │\n",
       "│ ---            ┆ ---                           ┆ ---      │\n",
       "│ i64            ┆ str                           ┆ i64      │\n",
       "╞════════════════╪═══════════════════════════════╪══════════╡\n",
       "│ 62             ┆ 10.1016/j.jii.2020.100125     ┆ 0        │\n",
       "│ 70             ┆ 10.1056/NEJMra1906193         ┆ 0        │\n",
       "│ 85             ┆ 10.1109/TCSI.2020.3036847     ┆ 0        │\n",
       "│ 138            ┆ 10.1111/nph.18016             ┆ 0        │\n",
       "│ 152            ┆ 10.1016/j.anr.2019.11.002     ┆ 0        │\n",
       "│ …              ┆ …                             ┆ …        │\n",
       "│ 543            ┆ 10.1038/s41591-021-01498-0    ┆ 249998   │\n",
       "│ 2926           ┆ 10.1093/database/baz085       ┆ 249998   │\n",
       "│ 50             ┆ 10.1016/S0140-6736(22)01438-6 ┆ 249999   │\n",
       "│ 10             ┆ 10.1038/s41586-020-1969-6     ┆ 250000   │\n",
       "│ 2037           ┆ 10.1001/jamacardio.2018.4729  ┆ 250000   │\n",
       "└────────────────┴───────────────────────────────┴──────────┘"
      ]
     },
     "execution_count": 2,
     "metadata": {},
     "output_type": "execute_result"
    }
   ],
   "source": [
    "publications = polars.read_database_uri(\n",
    "    \"\"\"SELECT publication_id, doi, rank_sum\n",
    "    FROM work_publications\n",
    "    WHERE rank_sum IS NOT NULL\n",
    "    ORDER BY rank_sum\"\"\",\n",
    "    \"sqlite://sydney.sqlite\"\n",
    ")\n",
    "publications"
   ]
  },
  {
   "cell_type": "code",
   "execution_count": 3,
   "id": "4dfa2148-e863-4798-85a8-e7ef68f0fec3",
   "metadata": {},
   "outputs": [
    {
     "data": {
      "text/html": [
       "<div><style>\n",
       ".dataframe > thead > tr,\n",
       ".dataframe > tbody > tr {\n",
       "  text-align: right;\n",
       "  white-space: pre-wrap;\n",
       "}\n",
       "</style>\n",
       "<small>shape: (61_179, 4)</small><table border=\"1\" class=\"dataframe\"><thead><tr><th>external_author_id</th><th>author_names</th><th>publication_count</th><th>qs_subjects</th></tr><tr><td>i64</td><td>str</td><td>i64</td><td>str</td></tr></thead><tbody><tr><td>1</td><td>&quot;Troon, S.&quot;</td><td>1</td><td>&quot;Life Sciences &amp; Medicine&quot;</td></tr><tr><td>2</td><td>&quot;Simoniello, C.&quot;</td><td>1</td><td>&quot;Natural Sciences| Engineering …</td></tr><tr><td>3</td><td>&quot;Beerman, S.B.&quot;</td><td>1</td><td>&quot;Life Sciences &amp; Medicine&quot;</td></tr><tr><td>4</td><td>&quot;Sariyildiz, E.&quot;</td><td>1</td><td>&quot;Life Sciences &amp; Medicine| Engi…</td></tr><tr><td>5</td><td>&quot;Anazodo, A.| Anazodo, A.C.&quot;</td><td>5</td><td>&quot;Life Sciences &amp; Medicine,Arts …</td></tr><tr><td>&hellip;</td><td>&hellip;</td><td>&hellip;</td><td>&hellip;</td></tr><tr><td>61175</td><td>&quot;Zhu, X.&quot;</td><td>1</td><td>&quot;Natural Sciences&quot;</td></tr><tr><td>61176</td><td>&quot;McIntyre, D.&quot;</td><td>1</td><td>&quot;Life Sciences &amp; Medicine&quot;</td></tr><tr><td>61177</td><td>&quot;Boyle, J.&quot;</td><td>1</td><td>&quot;Life Sciences &amp; Medicine&quot;</td></tr><tr><td>61178</td><td>&quot;Zhou, K.&quot;</td><td>1</td><td>&quot;Life Sciences &amp; Medicine&quot;</td></tr><tr><td>61179</td><td>&quot;Irham, L.M.&quot;</td><td>1</td><td>&quot;Life Sciences &amp; Medicine&quot;</td></tr></tbody></table></div>"
      ],
      "text/plain": [
       "shape: (61_179, 4)\n",
       "┌────────────────────┬────────────────────────────┬───────────────────┬────────────────────────────┐\n",
       "│ external_author_id ┆ author_names               ┆ publication_count ┆ qs_subjects                │\n",
       "│ ---                ┆ ---                        ┆ ---               ┆ ---                        │\n",
       "│ i64                ┆ str                        ┆ i64               ┆ str                        │\n",
       "╞════════════════════╪════════════════════════════╪═══════════════════╪════════════════════════════╡\n",
       "│ 1                  ┆ Troon, S.                  ┆ 1                 ┆ Life Sciences & Medicine   │\n",
       "│ 2                  ┆ Simoniello, C.             ┆ 1                 ┆ Natural Sciences|          │\n",
       "│                    ┆                            ┆                   ┆ Engineering …              │\n",
       "│ 3                  ┆ Beerman, S.B.              ┆ 1                 ┆ Life Sciences & Medicine   │\n",
       "│ 4                  ┆ Sariyildiz, E.             ┆ 1                 ┆ Life Sciences & Medicine|  │\n",
       "│                    ┆                            ┆                   ┆ Engi…                      │\n",
       "│ 5                  ┆ Anazodo, A.| Anazodo, A.C. ┆ 5                 ┆ Life Sciences &            │\n",
       "│                    ┆                            ┆                   ┆ Medicine,Arts …            │\n",
       "│ …                  ┆ …                          ┆ …                 ┆ …                          │\n",
       "│ 61175              ┆ Zhu, X.                    ┆ 1                 ┆ Natural Sciences           │\n",
       "│ 61176              ┆ McIntyre, D.               ┆ 1                 ┆ Life Sciences & Medicine   │\n",
       "│ 61177              ┆ Boyle, J.                  ┆ 1                 ┆ Life Sciences & Medicine   │\n",
       "│ 61178              ┆ Zhou, K.                   ┆ 1                 ┆ Life Sciences & Medicine   │\n",
       "│ 61179              ┆ Irham, L.M.                ┆ 1                 ┆ Life Sciences & Medicine   │\n",
       "└────────────────────┴────────────────────────────┴───────────────────┴────────────────────────────┘"
      ]
     },
     "execution_count": 3,
     "metadata": {},
     "output_type": "execute_result"
    }
   ],
   "source": [
    "authors = polars.read_database_uri(\n",
    "    \"\"\"SELECT a.external_author_id, author_names, COUNT(*) AS publication_count,\n",
    "        group_concat(distinct qs_subject_area_field_name) as qs_subjects\n",
    "    FROM work_publication_authors pa\n",
    "    JOIN work_external_authors a ON pa.external_author_id = a.external_author_id\n",
    "    JOIN work_publications p ON pa.publication_id = p.publication_id\n",
    "    GROUP BY a.external_author_id\n",
    "    \"\"\",\n",
    "    \"sqlite://sydney.sqlite\"\n",
    ")\n",
    "authors"
   ]
  },
  {
   "cell_type": "code",
   "execution_count": 4,
   "id": "d226c752-b022-447c-8b44-c11f1fbdc22b",
   "metadata": {},
   "outputs": [],
   "source": [
    "with Workbook(\"sydney.xlsx\") as wb:\n",
    "    publications.write_excel(wb, \"publications\", autofit=True)\n",
    "    authors.write_excel(wb, \"authors\", autofit=True)"
   ]
  },
  {
   "cell_type": "code",
   "execution_count": null,
   "id": "4acc655d-e29d-4a5a-bb29-82f385e2ec80",
   "metadata": {},
   "outputs": [],
   "source": []
  }
 ],
 "metadata": {
  "kernelspec": {
   "display_name": "Python 3 (ipykernel)",
   "language": "python",
   "name": "python3"
  },
  "language_info": {
   "codemirror_mode": {
    "name": "ipython",
    "version": 3
   },
   "file_extension": ".py",
   "mimetype": "text/x-python",
   "name": "python",
   "nbconvert_exporter": "python",
   "pygments_lexer": "ipython3",
   "version": "3.12.4"
  }
 },
 "nbformat": 4,
 "nbformat_minor": 5
}
